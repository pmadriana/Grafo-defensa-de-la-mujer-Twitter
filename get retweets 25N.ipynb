{
 "cells": [
  {
   "cell_type": "code",
   "execution_count": 4,
   "id": "146b23e6",
   "metadata": {},
   "outputs": [],
   "source": [
    "import tweepy\n",
    "  \n",
    "# assign the values accordingly\n",
    "consumer_key = \"\"\n",
    "consumer_secret= \"\"\n",
    "access_token=\"\"\n",
    "access_token_secret=\"\"\n",
    "  \n",
    "# authorization of consumer key and consumer secret\n",
    "auth = tweepy.OAuthHandler(consumer_key, consumer_secret)\n",
    "  \n",
    "# set access to user's access key and access secret \n",
    "auth.set_access_token(access_token, access_token_secret)\n",
    "  \n",
    "# calling the api \n",
    "api = tweepy.API(auth)"
   ]
  },
  {
   "cell_type": "code",
   "execution_count": 5,
   "id": "7471d975",
   "metadata": {},
   "outputs": [],
   "source": [
    "import numpy as np # linear algebra\n",
    "import pandas as pd # data processing, CSV file I/O (e.g. pd.read_csv)"
   ]
  },
  {
   "cell_type": "code",
   "execution_count": 13,
   "id": "d5a08727",
   "metadata": {},
   "outputs": [
    {
     "data": {
      "text/plain": [
       "source_user    550\n",
       "source         550\n",
       "target         550\n",
       "target_user    550\n",
       "dtype: int64"
      ]
     },
     "execution_count": 13,
     "metadata": {},
     "output_type": "execute_result"
    }
   ],
   "source": [
    "train_df = pd.read_csv('nodos25n.csv')\n",
    "train_df.count()\n"
   ]
  },
  {
   "cell_type": "code",
   "execution_count": 18,
   "id": "3a3db55f",
   "metadata": {},
   "outputs": [
    {
     "data": {
      "text/html": [
       "<div>\n",
       "<style scoped>\n",
       "    .dataframe tbody tr th:only-of-type {\n",
       "        vertical-align: middle;\n",
       "    }\n",
       "\n",
       "    .dataframe tbody tr th {\n",
       "        vertical-align: top;\n",
       "    }\n",
       "\n",
       "    .dataframe thead th {\n",
       "        text-align: right;\n",
       "    }\n",
       "</style>\n",
       "<table border=\"1\" class=\"dataframe\">\n",
       "  <thead>\n",
       "    <tr style=\"text-align: right;\">\n",
       "      <th></th>\n",
       "      <th>source_user</th>\n",
       "      <th>source</th>\n",
       "      <th>target</th>\n",
       "      <th>target_user</th>\n",
       "    </tr>\n",
       "  </thead>\n",
       "  <tbody>\n",
       "    <tr>\n",
       "      <th>0</th>\n",
       "      <td>ONU Mujeres Ecuador</td>\n",
       "      <td>1465787970414419976</td>\n",
       "      <td>2407694894</td>\n",
       "      <td>BuddiLi</td>\n",
       "    </tr>\n",
       "    <tr>\n",
       "      <th>1</th>\n",
       "      <td>Ministerio del Deporte Ecuador</td>\n",
       "      <td>1465777282207866887</td>\n",
       "      <td>1041449741807218688</td>\n",
       "      <td>fenuso1</td>\n",
       "    </tr>\n",
       "    <tr>\n",
       "      <th>2</th>\n",
       "      <td>ONU Mujeres Ecuador</td>\n",
       "      <td>1465776423491321868</td>\n",
       "      <td>180801127</td>\n",
       "      <td>catheat24</td>\n",
       "    </tr>\n",
       "    <tr>\n",
       "      <th>3</th>\n",
       "      <td>ONU Mujeres Ecuador</td>\n",
       "      <td>1465776423491321868</td>\n",
       "      <td>821739076722237442</td>\n",
       "      <td>samanescuatro</td>\n",
       "    </tr>\n",
       "    <tr>\n",
       "      <th>4</th>\n",
       "      <td>Aldeas SOS Ecuador</td>\n",
       "      <td>1465770891682398215</td>\n",
       "      <td>308481591</td>\n",
       "      <td>lau_muriel</td>\n",
       "    </tr>\n",
       "  </tbody>\n",
       "</table>\n",
       "</div>"
      ],
      "text/plain": [
       "                      source_user               source               target  \\\n",
       "0             ONU Mujeres Ecuador  1465787970414419976           2407694894   \n",
       "1  Ministerio del Deporte Ecuador  1465777282207866887  1041449741807218688   \n",
       "2             ONU Mujeres Ecuador  1465776423491321868            180801127   \n",
       "3             ONU Mujeres Ecuador  1465776423491321868   821739076722237442   \n",
       "4              Aldeas SOS Ecuador  1465770891682398215            308481591   \n",
       "\n",
       "     target_user  \n",
       "0        BuddiLi  \n",
       "1        fenuso1  \n",
       "2      catheat24  \n",
       "3  samanescuatro  \n",
       "4     lau_muriel  "
      ]
     },
     "execution_count": 18,
     "metadata": {},
     "output_type": "execute_result"
    }
   ],
   "source": [
    "train_df.head()"
   ]
  },
  {
   "cell_type": "code",
   "execution_count": 14,
   "id": "2717820a",
   "metadata": {},
   "outputs": [],
   "source": [
    "tweets=[]\n",
    "df = pd.DataFrame(tweets, columns = ['source' , 'target', 'target_user'])\n",
    "cont=0"
   ]
  },
  {
   "cell_type": "code",
   "execution_count": 28,
   "id": "5cd96cab",
   "metadata": {},
   "outputs": [
    {
     "ename": "RateLimitError",
     "evalue": "[{'message': 'Rate limit exceeded', 'code': 88}]",
     "output_type": "error",
     "traceback": [
      "\u001b[1;31m---------------------------------------------------------------------------\u001b[0m",
      "\u001b[1;31mRateLimitError\u001b[0m                            Traceback (most recent call last)",
      "\u001b[1;32m<ipython-input-28-3003529fd50d>\u001b[0m in \u001b[0;36m<module>\u001b[1;34m\u001b[0m\n\u001b[0;32m      2\u001b[0m     \u001b[1;31m#print(f\"id: {i}\")\u001b[0m\u001b[1;33m\u001b[0m\u001b[1;33m\u001b[0m\u001b[1;33m\u001b[0m\u001b[0m\n\u001b[0;32m      3\u001b[0m     \u001b[1;32mif\u001b[0m \u001b[0mcont\u001b[0m \u001b[1;33m>\u001b[0m\u001b[1;36m74\u001b[0m\u001b[1;33m:\u001b[0m\u001b[1;33m\u001b[0m\u001b[1;33m\u001b[0m\u001b[0m\n\u001b[1;32m----> 4\u001b[1;33m         \u001b[0mretweets_list\u001b[0m \u001b[1;33m=\u001b[0m \u001b[0mapi\u001b[0m\u001b[1;33m.\u001b[0m\u001b[0mretweets\u001b[0m\u001b[1;33m(\u001b[0m\u001b[0mi\u001b[0m\u001b[1;33m)\u001b[0m\u001b[1;33m\u001b[0m\u001b[1;33m\u001b[0m\u001b[0m\n\u001b[0m\u001b[0;32m      5\u001b[0m         \u001b[1;32mfor\u001b[0m \u001b[0mretweet\u001b[0m \u001b[1;32min\u001b[0m \u001b[0mretweets_list\u001b[0m\u001b[1;33m:\u001b[0m\u001b[1;33m\u001b[0m\u001b[1;33m\u001b[0m\u001b[0m\n\u001b[0;32m      6\u001b[0m             \u001b[0mdf\u001b[0m\u001b[1;33m=\u001b[0m\u001b[0mdf\u001b[0m\u001b[1;33m.\u001b[0m\u001b[0mappend\u001b[0m\u001b[1;33m(\u001b[0m\u001b[1;33m{\u001b[0m\u001b[1;34m'source'\u001b[0m \u001b[1;33m:\u001b[0m \u001b[0mi\u001b[0m \u001b[1;33m,\u001b[0m \u001b[1;34m'target'\u001b[0m \u001b[1;33m:\u001b[0m \u001b[0mretweet\u001b[0m\u001b[1;33m.\u001b[0m\u001b[0muser\u001b[0m\u001b[1;33m.\u001b[0m\u001b[0mid\u001b[0m\u001b[1;33m,\u001b[0m \u001b[1;34m'target_user'\u001b[0m \u001b[1;33m:\u001b[0m \u001b[0mretweet\u001b[0m\u001b[1;33m.\u001b[0m\u001b[0muser\u001b[0m\u001b[1;33m.\u001b[0m\u001b[0mscreen_name\u001b[0m\u001b[1;33m}\u001b[0m \u001b[1;33m,\u001b[0m \u001b[0mignore_index\u001b[0m\u001b[1;33m=\u001b[0m\u001b[1;32mTrue\u001b[0m\u001b[1;33m)\u001b[0m\u001b[1;33m\u001b[0m\u001b[1;33m\u001b[0m\u001b[0m\n",
      "\u001b[1;32m~\\anaconda3\\lib\\site-packages\\tweepy\\binder.py\u001b[0m in \u001b[0;36m_call\u001b[1;34m(*args, **kwargs)\u001b[0m\n\u001b[0;32m    251\u001b[0m                 \u001b[1;32mreturn\u001b[0m \u001b[0mmethod\u001b[0m\u001b[1;33m\u001b[0m\u001b[1;33m\u001b[0m\u001b[0m\n\u001b[0;32m    252\u001b[0m             \u001b[1;32melse\u001b[0m\u001b[1;33m:\u001b[0m\u001b[1;33m\u001b[0m\u001b[1;33m\u001b[0m\u001b[0m\n\u001b[1;32m--> 253\u001b[1;33m                 \u001b[1;32mreturn\u001b[0m \u001b[0mmethod\u001b[0m\u001b[1;33m.\u001b[0m\u001b[0mexecute\u001b[0m\u001b[1;33m(\u001b[0m\u001b[1;33m)\u001b[0m\u001b[1;33m\u001b[0m\u001b[1;33m\u001b[0m\u001b[0m\n\u001b[0m\u001b[0;32m    254\u001b[0m         \u001b[1;32mfinally\u001b[0m\u001b[1;33m:\u001b[0m\u001b[1;33m\u001b[0m\u001b[1;33m\u001b[0m\u001b[0m\n\u001b[0;32m    255\u001b[0m             \u001b[0mmethod\u001b[0m\u001b[1;33m.\u001b[0m\u001b[0msession\u001b[0m\u001b[1;33m.\u001b[0m\u001b[0mclose\u001b[0m\u001b[1;33m(\u001b[0m\u001b[1;33m)\u001b[0m\u001b[1;33m\u001b[0m\u001b[1;33m\u001b[0m\u001b[0m\n",
      "\u001b[1;32m~\\anaconda3\\lib\\site-packages\\tweepy\\binder.py\u001b[0m in \u001b[0;36mexecute\u001b[1;34m(self)\u001b[0m\n\u001b[0;32m    230\u001b[0m \u001b[1;33m\u001b[0m\u001b[0m\n\u001b[0;32m    231\u001b[0m                 \u001b[1;32mif\u001b[0m \u001b[0mis_rate_limit_error_message\u001b[0m\u001b[1;33m(\u001b[0m\u001b[0merror_msg\u001b[0m\u001b[1;33m)\u001b[0m\u001b[1;33m:\u001b[0m\u001b[1;33m\u001b[0m\u001b[1;33m\u001b[0m\u001b[0m\n\u001b[1;32m--> 232\u001b[1;33m                     \u001b[1;32mraise\u001b[0m \u001b[0mRateLimitError\u001b[0m\u001b[1;33m(\u001b[0m\u001b[0merror_msg\u001b[0m\u001b[1;33m,\u001b[0m \u001b[0mresp\u001b[0m\u001b[1;33m)\u001b[0m\u001b[1;33m\u001b[0m\u001b[1;33m\u001b[0m\u001b[0m\n\u001b[0m\u001b[0;32m    233\u001b[0m                 \u001b[1;32melse\u001b[0m\u001b[1;33m:\u001b[0m\u001b[1;33m\u001b[0m\u001b[1;33m\u001b[0m\u001b[0m\n\u001b[0;32m    234\u001b[0m                     \u001b[1;32mraise\u001b[0m \u001b[0mTweepError\u001b[0m\u001b[1;33m(\u001b[0m\u001b[0merror_msg\u001b[0m\u001b[1;33m,\u001b[0m \u001b[0mresp\u001b[0m\u001b[1;33m,\u001b[0m \u001b[0mapi_code\u001b[0m\u001b[1;33m=\u001b[0m\u001b[0mapi_error_code\u001b[0m\u001b[1;33m)\u001b[0m\u001b[1;33m\u001b[0m\u001b[1;33m\u001b[0m\u001b[0m\n",
      "\u001b[1;31mRateLimitError\u001b[0m: [{'message': 'Rate limit exceeded', 'code': 88}]"
     ]
    }
   ],
   "source": [
    "\n",
    "for i in train_df['id']:\n",
    "    #print(f\"id: {i}\")\n",
    "    if cont >74:\n",
    "        retweets_list = api.retweets(i)\n",
    "        for retweet in retweets_list:\n",
    "            df=df.append({'source' : i , 'target' : retweet.user.id, 'target_user' : retweet.user.screen_name} , ignore_index=True)\n",
    "    cont+=1"
   ]
  },
  {
   "cell_type": "code",
   "execution_count": 29,
   "id": "4ef09c09",
   "metadata": {},
   "outputs": [
    {
     "data": {
      "text/html": [
       "<div>\n",
       "<style scoped>\n",
       "    .dataframe tbody tr th:only-of-type {\n",
       "        vertical-align: middle;\n",
       "    }\n",
       "\n",
       "    .dataframe tbody tr th {\n",
       "        vertical-align: top;\n",
       "    }\n",
       "\n",
       "    .dataframe thead th {\n",
       "        text-align: right;\n",
       "    }\n",
       "</style>\n",
       "<table border=\"1\" class=\"dataframe\">\n",
       "  <thead>\n",
       "    <tr style=\"text-align: right;\">\n",
       "      <th></th>\n",
       "      <th>source</th>\n",
       "      <th>target</th>\n",
       "      <th>target_user</th>\n",
       "    </tr>\n",
       "  </thead>\n",
       "  <tbody>\n",
       "    <tr>\n",
       "      <th>0</th>\n",
       "      <td>1465787970414419976</td>\n",
       "      <td>2407694894</td>\n",
       "      <td>BuddiLi</td>\n",
       "    </tr>\n",
       "    <tr>\n",
       "      <th>1</th>\n",
       "      <td>1465777282207866887</td>\n",
       "      <td>1041449741807218688</td>\n",
       "      <td>fenuso1</td>\n",
       "    </tr>\n",
       "    <tr>\n",
       "      <th>2</th>\n",
       "      <td>1465776423491321868</td>\n",
       "      <td>180801127</td>\n",
       "      <td>catheat24</td>\n",
       "    </tr>\n",
       "    <tr>\n",
       "      <th>3</th>\n",
       "      <td>1465776423491321868</td>\n",
       "      <td>821739076722237442</td>\n",
       "      <td>samanescuatro</td>\n",
       "    </tr>\n",
       "    <tr>\n",
       "      <th>4</th>\n",
       "      <td>1465770891682398215</td>\n",
       "      <td>308481591</td>\n",
       "      <td>lau_muriel</td>\n",
       "    </tr>\n",
       "    <tr>\n",
       "      <th>...</th>\n",
       "      <td>...</td>\n",
       "      <td>...</td>\n",
       "      <td>...</td>\n",
       "    </tr>\n",
       "    <tr>\n",
       "      <th>300</th>\n",
       "      <td>1465449923495792644</td>\n",
       "      <td>142498934</td>\n",
       "      <td>amodeltiempo</td>\n",
       "    </tr>\n",
       "    <tr>\n",
       "      <th>301</th>\n",
       "      <td>1465449923495792644</td>\n",
       "      <td>234938089</td>\n",
       "      <td>AZULVIRVIESCAS</td>\n",
       "    </tr>\n",
       "    <tr>\n",
       "      <th>302</th>\n",
       "      <td>1465449923495792644</td>\n",
       "      <td>705986347203469312</td>\n",
       "      <td>AlvaroArtD</td>\n",
       "    </tr>\n",
       "    <tr>\n",
       "      <th>303</th>\n",
       "      <td>1465449923495792644</td>\n",
       "      <td>128339726</td>\n",
       "      <td>lida30</td>\n",
       "    </tr>\n",
       "    <tr>\n",
       "      <th>304</th>\n",
       "      <td>1465449923495792644</td>\n",
       "      <td>1450893052617314309</td>\n",
       "      <td>MarlonVasquezS</td>\n",
       "    </tr>\n",
       "  </tbody>\n",
       "</table>\n",
       "<p>305 rows × 3 columns</p>\n",
       "</div>"
      ],
      "text/plain": [
       "                  source               target     target_user\n",
       "0    1465787970414419976           2407694894         BuddiLi\n",
       "1    1465777282207866887  1041449741807218688         fenuso1\n",
       "2    1465776423491321868            180801127       catheat24\n",
       "3    1465776423491321868   821739076722237442   samanescuatro\n",
       "4    1465770891682398215            308481591      lau_muriel\n",
       "..                   ...                  ...             ...\n",
       "300  1465449923495792644            142498934    amodeltiempo\n",
       "301  1465449923495792644            234938089  AZULVIRVIESCAS\n",
       "302  1465449923495792644   705986347203469312      AlvaroArtD\n",
       "303  1465449923495792644            128339726          lida30\n",
       "304  1465449923495792644  1450893052617314309  MarlonVasquezS\n",
       "\n",
       "[305 rows x 3 columns]"
      ]
     },
     "execution_count": 29,
     "metadata": {},
     "output_type": "execute_result"
    }
   ],
   "source": [
    "df"
   ]
  },
  {
   "cell_type": "code",
   "execution_count": 129,
   "id": "484fcb42",
   "metadata": {
    "scrolled": false
   },
   "outputs": [
    {
     "name": "stdout",
     "output_type": "stream",
     "text": [
      "{'id': 1469318006870183936, 'date': datetime.datetime(2021, 12, 10, 14, 48, 6), 'tweet': 'Los #derechoshumanos son de toda la humanidad pero no la totalidad de nuestros compatriotas gozan plenamente de sus derechos fundamentales. Ratificamos nuestro empeño de erradicar el hambre y garantizar la #inclusión como parte de la lucha desde el gobierno para garantizarlos. https://t.co/LOcszrv7lH'}\n",
      "{'id': 1469025478166126592, 'date': datetime.datetime(2021, 12, 9, 19, 25, 41), 'tweet': 'Al conmemorarse el 197° Aniversario de la Batalla de Ayacucho y Día del @EjercitoPeru saludamos afectuosamente a esta gran institución y sus integrantes en todo el país. https://t.co/JQaZEuuNVs'}\n",
      "{'id': 1468644242696331264, 'date': datetime.datetime(2021, 12, 8, 18, 10, 48), 'tweet': 'Expreso mis condolencias a la familia de la excongresista Susana Higuchi Miyagawa, fallecida hoy. Recordaremos siempre su gran papel como Primera Dama, su trayectoria política limpia y calidad humana que son de reconocimiento unánime. https://t.co/8LlQjDH18u'}\n",
      "{'id': 1468634565669437440, 'date': datetime.datetime(2021, 12, 8, 17, 32, 21), 'tweet': 'Condolencias https://t.co/4vStTuJbtX'}\n",
      "{'id': 1468387102832443396, 'date': datetime.datetime(2021, 12, 8, 1, 9, 1), 'tweet': 'Agradecemos la reflexión y el compromiso con el país del voto mayoritario en el Congreso que rechazó la vacancia presidencial. Pasado este capítulo, todas las fuerzas políticas tienen espacio para la crítica en democracia. Nunca abandonemos la posibilidad de construir consensos. https://t.co/UzqFVjkVRJ'}\n",
      "{'id': 1468276800853843971, 'date': datetime.datetime(2021, 12, 7, 17, 50, 43), 'tweet': 'Hoy tenemos un diálogo fundamental con los 84 alcaldes de la región #Apurímac. \\nDesde Abancay, saludamos la realización del #MuniEjecutivo que se realiza aquí. En especial nos entusiasma coordinar con las autoridades locales la apuesta del @MidisPeru por la #inclusión. https://t.co/s8NtZYrNyN'}\n",
      "{'id': 1468224070282002436, 'date': datetime.datetime(2021, 12, 7, 14, 21, 11), 'tweet': 'Démosle una oportunidad al diálogo democrático y juntos construir una salida a la crisis. #UnidosporelPerú'}\n",
      "{'id': 1468224067744542722, 'date': datetime.datetime(2021, 12, 7, 14, 21, 10), 'tweet': 'La agenda del país debe ser reconducida a resolver los grandes problemas de la población peruana. Invocamos a las y los parlamentarios a reflexionar y sumar a la gobernabilidad, superando la ruptura legal y constitucional que abre la posibilidad de una vacancia presidencial. (1) https://t.co/50duCLd5uo'}\n",
      "{'id': 1467945371062214661, 'date': datetime.datetime(2021, 12, 6, 19, 53, 44), 'tweet': 'Felicitaciones a la Policía Nacional en el 33° Aniversario de su creación. \\nEn todo el país, su presencia garantiza la seguridad interna y contribuye a la protección de los derechos de ciudadanas y ciudadanos. 🇵🇪 https://t.co/m2jlnHs0Pu'}\n",
      "{'id': 1467566805732499459, 'date': datetime.datetime(2021, 12, 5, 18, 49, 27), 'tweet': '¡Felicidades y nuestro agradecimiento siempre! https://t.co/AalWU331RX'}\n",
      "{'id': 1466916086553751558, 'date': datetime.datetime(2021, 12, 3, 23, 43, 43), 'tweet': 'Construyamos consensos 🤝 para evitar la inestabilidad política. Saludamos la iniciativa de nuestro presidente @PedroCastilloTe de iniciar hoy una ronda de diálogo con los líderes políticos del país. https://t.co/SSJjLgjkMj'}\n",
      "{'id': 1466775521547673612, 'date': datetime.datetime(2021, 12, 3, 14, 25, 10), 'tweet': 'Consolidando el vínculo con los Gobiernos Regionales y a través de un trabajo articulado con ellos, fortalecemos la democracia. #GOREEjecutivo https://t.co/LBZwBhC3ZW'}\n",
      "{'id': 1465772665336172553, 'date': datetime.datetime(2021, 11, 30, 20, 0, 10), 'tweet': '#Ahora Nos encontramos camino a Bagua Grande, donde haremos entrega de 92 toneladas de alimentos de @MidisQaliWarma para la atención de personas en situación de vulnerabilidad. \\n#UnidosPorAmazonas https://t.co/k71ipK4MhT'}\n",
      "{'id': 1465461200150532098, 'date': datetime.datetime(2021, 11, 29, 23, 22, 31), 'tweet': 'En atención a la vulnerabilidad social en esta zona afectada, @MidisQaliWarma ha levantado información inmediatamente y mañana llevará apoyo alimentario a Utcubamba.  #TodosSomosAmazonas'}\n",
      "{'id': 1465461198124724229, 'date': datetime.datetime(2021, 11, 29, 23, 22, 31), 'tweet': 'Terremoto de #Amazonas pone en evidencia precariedad en que viven nuestros compatriotas en el interior del país. \\nProvincias de Utcubamba, Chachapoyas, Luya, Bongará, Bagua y la extensa Condorcanqui forman parte del mapa del 🇵🇪, pero están desconectadas y olvidadas por el Estado. https://t.co/XS2xDc3Uhn'}\n",
      "{'id': 1465460037606858752, 'date': datetime.datetime(2021, 11, 29, 23, 17, 54), 'tweet': 'En atención a la vulnerabilidad social en esta zona afectada, @MidisQaliWarma ha levantado información inmediatamente y mañana llevará apoyo alimentario a Uctubamba.  #TodosSomosAmazonas'}\n",
      "{'id': 1464953081880211467, 'date': datetime.datetime(2021, 11, 28, 13, 43, 26), 'tweet': 'A nuestras hermanas y hermanos de Santa María de Nieva (Amazonas), el gobierno liderado por el presidente @PedroCastilloTe está tomando las acciones, a través de autoridades regionales y locales, para brindar la ayuda oportuna ante el sismo producido hoy.'}\n",
      "{'id': 1463876796257079296, 'date': datetime.datetime(2021, 11, 25, 14, 26, 40), 'tweet': 'Un mundo sin violencia de género es posible. Aportemos todos y todas, en todo lugar y ámbito, a erradicar el feminicidio y otras formas de violencia machista. #25nov #NiUnaMenos https://t.co/L6VyFFBktJ'}\n",
      "{'id': 1462897078703726594, 'date': datetime.datetime(2021, 11, 22, 21, 33, 37), 'tweet': 'Gracias presidente @PedroCastilloTe por encabezar en Cerro Colorado #Arequipa, la entrega de 1.800 TM de alimentos para ollas comunes y población vulnerable. \\nEn esta tierra hermosa reafirmé mi compromiso de seguir trabajando, de mano del mandatario, por los más pobres del 🇵🇪. https://t.co/M9s1tFpNOq'}\n",
      "{'id': 1462795540597460996, 'date': datetime.datetime(2021, 11, 22, 14, 50, 8), 'tweet': 'Me encuentro en la Ciudad Blanca, #Arequipa, donde hemos recibido la triste noticia del fallecimiento del vicegobernador Walter Gutierrez Cueva.\\nExpresamos nuestras condolencias a su familia y a toda la población arequipeña.'}\n",
      "{'id': 1461766995360243720, 'date': datetime.datetime(2021, 11, 19, 18, 43, 4), 'tweet': 'Deslindo tajantemente con los intentos de vincularme con la moción de vacancia presidencial planteada por Patricia Chirinos. Reitero mi total lealtad al presidente @PedroCastilloTe y al pueblo peruano. https://t.co/rnx8XuwzxZ'}\n",
      "{'id': 1461428319648428043, 'date': datetime.datetime(2021, 11, 18, 20, 17, 18), 'tweet': 'Solo tenemos un interés: trabajar por nuestro pueblo. El presidente @PedroCastilloTe no tiene un minuto sin pensar cómo dar soluciones a los problemas del país, siempre con una mirada social. Respeten la voluntad popular y permítannos gobernar para resolver esos problemas.'}\n",
      "{'id': 1461428317123497989, 'date': datetime.datetime(2021, 11, 18, 20, 17, 17), 'tweet': 'Al Congreso le pido reflexionar para trabajar por un Perú unido: todos debemos apostar por el país, el pueblo nos ha elegido para resolver los problemas de la patria. \\nDesde el primer día no nos han dado un minuto de tregua, pero no nos detendremos. Seguiremos día a día.'}\n",
      "{'id': 1461428313549946883, 'date': datetime.datetime(2021, 11, 18, 20, 17, 16), 'tweet': 'El presidente @PedroCastilloTe ganó las elecciones y, según la Constitución, su mandato es por cinco años. No promovamos la inseguridad jurídica y económica. Primero están los derechos de los más vulnerables, como el acceso a agua, desagüe, luz, otros. #DéjennosTrabajar.'}\n",
      "{'id': 1460790656331182081, 'date': datetime.datetime(2021, 11, 17, 2, 3, 27), 'tweet': '¡Unidos por la inclusión social en #Lambayeque! Alcaldes distritales y provinciales, funcionarios del Gobierno Regional y de los programas sociales del @MidisPeru,  así como congresistas de esta región, nos reunimos en la audiencia pública para el desarrollo e inclusión social. https://t.co/ogOeyDSPCD'}\n",
      "{'id': 1460664464735449093, 'date': datetime.datetime(2021, 11, 16, 17, 42), 'tweet': 'Gracias a los hermanos y hermanas del Comité Ciudadano de Apoyo a la Gestión de Pedro Castillo en #Lambayeque, que me dieron una cálida bienvenida. \\nLos invité a unirnos, sin importar colores políticos, para sacar adelante a la patria.🤝 https://t.co/9SNcpTNkfM'}\n",
      "{'id': 1460361567086776321, 'date': datetime.datetime(2021, 11, 15, 21, 38, 24), 'tweet': 'Hoy, Día Nacional de la #Vicuña, hacemos un llamado a nuestros hermanos para seguir protegiendo a este camélido. Hace varios años atrás esta población bordeaba los 5000 ejemplares; ahora, gracias a su conservación, en el Perú existen alrededor de 200 mil vicuñas. https://t.co/BmCrPHQlsU'}\n",
      "{'id': 1460235166064992261, 'date': datetime.datetime(2021, 11, 15, 13, 16, 8), 'tweet': 'Buen día. En breve, dialogo con @NicolasLucar en @exitosape. https://t.co/zCY82kdbtF'}\n",
      "{'id': 1459324650442440713, 'date': datetime.datetime(2021, 11, 13, 0, 58, 4), 'tweet': 'Expreso mis condolencias a la familia del alcalde de la Mar, Wilder Manyavilca, y su esposa Dunia Bustos, asesinados hoy en un atentado armado. \\nHago votos para que la paz reine en el país y rechacemos la violencia en todas sus formas. Que en paz descansen.'}\n",
      "{'id': 1456444831396421641, 'date': datetime.datetime(2021, 11, 5, 2, 14, 41), 'tweet': 'Agradecemos al Congreso de la República por el #VotoDeConfianza y reafirmamos nuestro compromiso de trabajar de manera conjunta entre los poderes del Estado para afianzar la democracia y la institucionalidad. #UnidosPorElPerú'}\n",
      "{'id': 1456444829601259527, 'date': datetime.datetime(2021, 11, 5, 2, 14, 41), 'tweet': 'Las políticas públicas que permitan mejorar la calidad de vida de nuestras hermanas y hermanos en condición de vulnerabilidad, continuarán. El apoyo #YanapayPerú llegará a los más de 13 millones de compatriotas. El apoyo a las ollas comunes es una prioridad. #UnidosPorElPerú'}\n",
      "{'id': 1456345460407476233, 'date': datetime.datetime(2021, 11, 4, 19, 39, 50), 'tweet': 'El inicio de la rebelión histórica al grito de Tinta, en 1780, iniciada por Túpac Amaru II debe reflejarse en los cambios profundos que el país reclama por años.\\nHoy 4 de noviembre recordamos los 241 años del primer grito de nuestro largo proceso de independencia. https://t.co/X1xH54zRDU'}\n",
      "{'id': 1456335328973934593, 'date': datetime.datetime(2021, 11, 4, 18, 59, 34), 'tweet': 'La estabilidad del país, el fin de los enfrentamientos, es un clamor de la ciudadanía. Estoy segura que las bancadas del Congreso escucharán la voz del pueblo. \\nEs hora de trabajar unidos. 🤝 #UnidosPorElPerú'}\n",
      "{'id': 1454976089185525763, 'date': datetime.datetime(2021, 11, 1, 0, 58, 26), 'tweet': 'Comparto con ustedes el comunicado del @MidisPeru sobre el pago del apoyo económico #YanapayPerú. https://t.co/ydkLi8sPmU'}\n",
      "{'id': 1454887440024543232, 'date': datetime.datetime(2021, 10, 31, 19, 6, 10), 'tweet': 'Hoy 31 de octubre celebramos el Día de la Canción Criolla a ritmo de guitarra y cajón. Que sea una fecha para reafirmar nuestra identidad cultural.\\n¡Lo nuestro siempre primero y que viva el Perú! 🇵🇪 https://t.co/1ivklmX7XH'}\n",
      "{'id': 1454634224405860358, 'date': datetime.datetime(2021, 10, 31, 2, 19, 59), 'tweet': 'Saludo al nuevo decano del Colegio de Contadores Públicos de Lima 2021-2023, Rafael Velásquez Soriano, y su Consejo Directivo. \\n🇵🇪 Los invito a que vigilen las finanzas públicas y nos apoyen en la búsqueda de #integridad. https://t.co/vVtFZBNr0R'}\n",
      "{'id': 1454524846721748999, 'date': datetime.datetime(2021, 10, 30, 19, 5, 21), 'tweet': 'Construir naciones sólidas que forjen futuro para sus compatriotas se logra con la unidad y el esfuerzo de sus mandatarios y funcionarios de Estado. Eso es lo que representa el Encuentro Presidencial y la VI Reunión del Gabinete Binacional de Ministros Perú-Bolivia. 🇵🇪 🇧🇴 https://t.co/0ctXHYe4O1'}\n",
      "{'id': 1454523983467003919, 'date': datetime.datetime(2021, 10, 30, 19, 1, 56), 'tweet': 'Felicitaciones a las y los 2000 integrantes de las Juntas Vecinales de Seguridad Ciudadana, organizadas en el plan Tukuy Ricuy, en #Comas. \\nSaludo su gran compromiso para hacer de nuestra ciudad un mejor lugar para vivir.\\n#TrabajandoPorElPueblo https://t.co/L4YFBlZWTn'}\n",
      "{'id': 1454442231113334786, 'date': datetime.datetime(2021, 10, 30, 13, 37, 4), 'tweet': '@VLADIMIR_CERRON https://t.co/x8XvNNDRtk'}\n",
      "{'id': 1453532387581829122, 'date': datetime.datetime(2021, 10, 28, 1, 21, 41), 'tweet': 'Gran reflexión del @CardenalBarreto: buscar el bien del país nos obliga a dejar atrás intereses políticos o de grupo. 🕊️ https://t.co/dSilXYpxKM'}\n",
      "{'id': 1452772174884851717, 'date': datetime.datetime(2021, 10, 25, 23, 0, 52), 'tweet': 'La lucha por un país con oportunidades seguirá siendo nuestra bandera tu presencia física se hará sentir, pero tu guía espiritual permanecerá con nosotros. ¡Cuando un maestro muere, nunca muere!.🙏🖤➕'}\n",
      "{'id': 1452772173412593666, 'date': datetime.datetime(2021, 10, 25, 23, 0, 52), 'tweet': 'Nuestras condolencias a la familia y al magisterio por el fallecimiento de nuestro compatriota Fernando Herrera Mamani.'}\n",
      "{'id': 1452627915338706944, 'date': datetime.datetime(2021, 10, 25, 13, 27, 38), 'tweet': 'Hoy nos presentamos ante el Congreso de la República para solicitar el voto de confianza que permita trazar las líneas de una nación para todas y todos, especialmente, por los más vulnerables. #DéjennosTrabajar #GobiernoDelBicentenario'}\n",
      "{'id': 1452627913757450240, 'date': datetime.datetime(2021, 10, 25, 13, 27, 37), 'tweet': 'La democracia tiene su máxima expresión en la convergencia de esfuerzos entre sus instituciones para sacar adelante al país. #DéjennosTrabajar #GobiernoDelBicentenario'}\n",
      "{'id': 1452459153042120710, 'date': datetime.datetime(2021, 10, 25, 2, 17, 2), 'tweet': 'Dialogando con @Cuarto_Poder: \"Me he reunido con congresistas llamándolos a la #unidad de Perú Libre\". https://t.co/iYyE5lzN8h'}\n",
      "{'id': 1452352107760267268, 'date': datetime.datetime(2021, 10, 24, 19, 11, 40), 'tweet': 'Estoy segura que cuando concluya está investigación se demostrará que nada tengo que ver con lavado de activos. \\nConfío que esta indagación no sea utilizada por intereres políticos que impulsan la vacancia.'}\n",
      "{'id': 1452352102341169161, 'date': datetime.datetime(2021, 10, 24, 19, 11, 39), 'tweet': 'Sobre aporte bancarizado de 15,791 soles correspondiente a 104 personas en el 2020:\\nQue la fiscalía investigue a fondo, respetando el debido proceso y se llegue a la #verdad. (Hilo)'}\n",
      "{'id': 1452332559090790406, 'date': datetime.datetime(2021, 10, 24, 17, 53, 59), 'tweet': '🙌 Gracias Juan Pablo Mendoza Cerna, de 82 años, beneficiario de Pensión 65 y vecino de La Expansión, en #Ica. \\nEsta mañana asistí a la entrega del apoyo económico #Yanapay en su humilde domicilio. https://t.co/Hso0rZ95Dx'}\n",
      "{'id': 1451694902849458182, 'date': datetime.datetime(2021, 10, 22, 23, 40, 10), 'tweet': 'Dentro de las competencias constitucionales y en resguardo de nuestra Carta Magna, el Ejecutivo presenta este recurso. \\nEl país necesita #seguridadjurídica para avanzar en la agenda de cambios. \\n#gobernabilidad https://t.co/wcWl5x5H4l'}\n",
      "{'id': 1451615822619762692, 'date': datetime.datetime(2021, 10, 22, 18, 25, 56), 'tweet': 'Esta mañana asistí a la celebración de los 99 años de creación de la Dirección de la Seguridad del Estado de la @PoliciaPeru.\\n🙌 Felicitaciones y reconocimiento a su rol profesional en la seguridad y protección de dignatarios nacionales y extranjeros. https://t.co/T3XtmdSWIL'}\n",
      "{'id': 1450998771987456002, 'date': datetime.datetime(2021, 10, 21, 1, 34), 'tweet': 'Acompaño la juramentación del nuevo Consejo Directivo Nacional del Colegio de Enfermeros del Perú. Les agradezco su compromiso por el país y rendimos honor a sus integrantes caídos en la lucha contra la pandemia. 🙌 https://t.co/KAB7UcKxWk'}\n",
      "{'id': 1450870302410518541, 'date': datetime.datetime(2021, 10, 20, 17, 3, 30), 'tweet': 'Hoy cumplimos 10 años trabajando por la población más vulnerable del país. Nuestro compromiso sigue firme para lograr un verdadero desarrollo e inclusión social llevando los servicios del Estado a las peruanas y peruanos que más lo necesitan. ¡Feliz aniversario, @MidisPeru! 🇵🇪 https://t.co/dwhxf68egE'}\n",
      "{'id': 1450870253572009989, 'date': datetime.datetime(2021, 10, 20, 17, 3, 18), 'tweet': 'El país necesita superar el enfrentamiento político y afianzar la democracia. La insistencia del Congreso sobre la #CuestiónDeConfianza quiebra el equilibrio de poderes y vulnera la Constitución. Es un retroceso en la búsqueda de gobernabilidad e institucionalidad democrática.'}\n",
      "{'id': 1450440731282198532, 'date': datetime.datetime(2021, 10, 19, 12, 36, 32), 'tweet': 'Quiero expresar mi saludo fraternal al presidente @PedroCastilloTe por su onomástico, deseándole bienestar en unión de su familia y muchos éxitos en el desempeño de sus funciones que buscan construir un mejor país para todas y todos los peruanos. ¡Feliz cumpleaños, presidente! https://t.co/Fm1dzbWdFY'}\n",
      "{'id': 1450087903728570372, 'date': datetime.datetime(2021, 10, 18, 13, 14, 32), 'tweet': 'El #diálogo político es esencial en democracia. Saludamos a los partidos que respondiendo a la invitación de la presidenta del Consejo de Ministros @MirtyVas participarán desde hoy en la ronda de conversaciones sobre la gobernabilidad. #GobiernodelBicentenario'}\n",
      "{'id': 1449553413109268481, 'date': datetime.datetime(2021, 10, 17, 1, 50, 39), 'tweet': 'Este nuevo CIAI es el más grande construido en el país y tiene una capacidad para atender a 192 niñas y niños menores de 36 meses de edad. Nuestro Gobierno está comprometido con la niñez y su adecuado desarrollo porque ellos son el presente y futuro del país. https://t.co/kTg8t1oPjp'}\n",
      "{'id': 1449553377164029954, 'date': datetime.datetime(2021, 10, 17, 1, 50, 31), 'tweet': 'Continuamos beneficiando a la población vulnerable del Perú. Esta vez estuvimos en Chao, La Libertad, donde inauguramos un CIAI de @MIDIS_CunaMas para las niñas y niños de ese distrito. https://t.co/ZToW8DOeBc'}\n",
      "{'id': 1449552612089466881, 'date': datetime.datetime(2021, 10, 17, 1, 47, 28), 'tweet': 'Este nuevo CIAI es el más grande construido en el país y tiene una capacidad para atender a 192 niñas y niños menores de 36 meses de edad. Nuestro Gobierno está comprometido con la niñez y su adecuado desarrollo porque ellos son el presente y futuro del país. https://t.co/CI3Hz7ptPn'}\n",
      "{'id': 1449404052014469121, 'date': datetime.datetime(2021, 10, 16, 15, 57, 9), 'tweet': 'La discapacidad es un tema de derechos humanos que compromete al Estado y a la sociedad, y por eso este Gobierno no deja de lado a nadie. En el #DíaNacionalDeLaPersonaConDiscapacidad, reforzamos nuestra tarea de velar por una verdadera inclusión que permita igualdad para todos. https://t.co/nTIYRhZwiq'}\n",
      "{'id': 1449374239887351810, 'date': datetime.datetime(2021, 10, 16, 13, 58, 41), 'tweet': 'Contribuyamos a disminuir el hambre en el mundo y garantizar alimentos nutritivos, inocuos y sostenibles para todos. 🌽\\n👉Los programas sociales y las políticas de #SeguridadAlimentaria del gobierno contribuyen a ello. \\n#16oct #DíaMundialDeLaAlimentación https://t.co/oE1pDZMwy8'}\n",
      "{'id': 1449217582360408064, 'date': datetime.datetime(2021, 10, 16, 3, 36, 11), 'tweet': 'A la militancia de #PerúLibre https://t.co/ZmLie3XLVA'}\n",
      "{'id': 1449189707083046912, 'date': datetime.datetime(2021, 10, 16, 1, 45, 25), 'tweet': '#SeguimosTrabajando He llegado a La Libertad para inaugurar mañana el Centro Infantil de Atención Integral “Las Poncianas”, en Chao. Este centro beneficiará a 192 niñas y niños en condición vulnerable, a través del programa @MIDIS_CunaMas.'}\n",
      "{'id': 1449166397934817281, 'date': datetime.datetime(2021, 10, 16, 0, 12, 48), 'tweet': 'Se llevan mi afecto y admiración, tengan la seguridad de que este Gobierno, liderado por el presidente @PedroCastilloTe, está con ustedes. https://t.co/L8U6MTkdzT'}\n",
      "{'id': 1449166393434312708, 'date': datetime.datetime(2021, 10, 16, 0, 12, 47), 'tweet': 'Hoy revaloramos la labor que cumplen y el empoderamiento de la mujer de las zonas rurales hacia el desarrollo integral de las comunidades de la región. #FuerzaMujerLuchadora. https://t.co/CYkfIoYQF0'}\n",
      "{'id': 1449166389093277697, 'date': datetime.datetime(2021, 10, 16, 0, 12, 46), 'tweet': 'Hermanas de los pueblos indígenas del Perú y Latinoamérica, fue un placer haber participado en la siembra de semillas de todas las sangres de @FENMUCARINAP, junto a la primera dama @LiliaParedesN y ministras de @MinCulturaPe y @MimpPeru en el #DíaInternacionalDeLaMujeresRurales. https://t.co/Ipw5amuKZH'}\n",
      "{'id': 1449035191754887168, 'date': datetime.datetime(2021, 10, 15, 15, 31, 26), 'tweet': '🥇 Felicidades, Angie Alcántara Castillo y Valeria Pareja Soto, por haber obtenido el primer puesto en la Olimpiada  Panamericana Femenina de Matemáticas 2021. ¡Que sigan logrando más éxitos para el Perú! 🇵🇪 https://t.co/JESYybWUOQ'}\n",
      "{'id': 1448997664415121414, 'date': datetime.datetime(2021, 10, 15, 13, 2, 18), 'tweet': 'Hoy que conmemoramos el #DíaInternacionalDeLasMujeresRurales, resaltemos la labor que cumplen en la lucha contra el hambre, acción enmarcada en la meta 2 de los Objetivos de Desarrollo Sostenible, y trabajemos por un Perú que brinde las mismas oportunidades a hombres y mujeres. https://t.co/S2Z75XMgFI'}\n",
      "{'id': 1448801834643066882, 'date': datetime.datetime(2021, 10, 15, 0, 4, 9), 'tweet': '#SeguimosTrabajando Hoy participé en una audiencia pública en Pasco para fortalecer la articulación de los programas sociales e intervenciones del @MidisPeru con participación activa de las autoridades locales, y llegar a más poblaciones vulnerables. #GobiernoDelBicentenario https://t.co/JenrfXCHmB'}\n",
      "{'id': 1448635752510676996, 'date': datetime.datetime(2021, 10, 14, 13, 4, 12), 'tweet': 'Me reuní con representantes de los pueblos indígenas para articular el trabajo del Estado en atención de las necesidades de nuestros hermanos, y lograr el desarrollo de los pueblos originarios que han sido tan olvidados. ¡Tenemos un compromiso con ellos! #GobiernoDelBicentenario https://t.co/nYRQBRsXik'}\n",
      "{'id': 1448627676139380736, 'date': datetime.datetime(2021, 10, 14, 12, 32, 6), 'tweet': 'Quiero enviar un saludo fraterno al distrito de Lurigancho Chosica por su 127.º aniversario de creación y desearles que continúen trabajando en favor del desarrollo integral y sostenible de sus ciudadanos y del distrito. ¡Feliz aniversario, @ChosicaMuni!'}\n",
      "{'id': 1448272858203836423, 'date': datetime.datetime(2021, 10, 13, 13, 2, 11), 'tweet': 'Los sismos no avisan. Estemos preparados y apliquemos medidas de prevención y de protección civil para nuestra seguridad y la de nuestra familia. Participemos hoy en el #SimulacroFamiliar2021 que organiza @indeciperu a las 8 p. m. #CuidémonosTodos https://t.co/P46clu1r8i'}\n",
      "{'id': 1448040021408288769, 'date': datetime.datetime(2021, 10, 12, 21, 36, 59), 'tweet': 'Nuestro país tiene una gran diversidad cultural, reflejada en sus pueblos originarios y en sus costumbres y tradiciones que debemos valorar. En el Día de los Pueblos Originarios y del Diálogo Intercultural, fomentemos un Perú más inclusivo y orgulloso de su diversidad.¡Feliz día! https://t.co/U8ovFfPWkL'}\n",
      "{'id': 1448035217948749828, 'date': datetime.datetime(2021, 10, 12, 21, 17, 53), 'tweet': 'Continuar con esta certificación nos permite mantener el compromiso de calidad y la excelencia en la prestación del servicio alimentario escolar a favor de las y los usuarios de las instituciones educativas públicas a nivel nacional. https://t.co/8bsVb8wQ8L'}\n",
      "{'id': 1448035209811738625, 'date': datetime.datetime(2021, 10, 12, 21, 17, 51), 'tweet': 'Felicito a @MidisQaliWarma por haber obtenido la recertificación de su Sistema de Gestión de la Calidad, alineado a los estándares internacionales que establece la norma técnica ISO 9001:2015. https://t.co/7ejiUEvyU5'}\n",
      "{'id': 1447546194364977158, 'date': datetime.datetime(2021, 10, 11, 12, 54, 41), 'tweet': 'Las niñas tienen el potencial de cambiar el mundo y en este Gobierno, liderado por el presidente @PedroCastilloTe, estamos trabajando para construir un futuro más equitativo e inclusivo para ellas. ¡Feliz #DíaInternacionalDeLaNiña! https://t.co/H3RRlUayYi'}\n",
      "{'id': 1447237818372218883, 'date': datetime.datetime(2021, 10, 10, 16, 29, 18), 'tweet': 'Confío en que el #diálogo político, anunciado por la presidenta del Consejo de Ministros @MirtyVas, abrirá ese camino y consolidar #juntos, Ejecutivo y Legislativo, nuestra democracia.'}\n",
      "{'id': 1447237816069591041, 'date': datetime.datetime(2021, 10, 10, 16, 29, 18), 'tweet': 'La responsabilidad exige a las bancadas una reflexión profunda sobre la intención de regular la cuestión de confianza sin considerar las sentencias del TC. Debemos preservar el principio de balance de poderes.'}\n",
      "{'id': 1447189740839575554, 'date': datetime.datetime(2021, 10, 10, 13, 18, 16), 'tweet': 'En el #DíaNacionalDelObstetra, mi reconocimiento a los profesionales de la obstetricia por el aporte y sacrificio en el cuidado de la salud femenina en nuestro país, aun en condiciones adversas como la pandemia por la COVID-19. ¡Feliz 165.º aniversario, @DeObstetrasPeru! https://t.co/2C0E5DrO3h'}\n",
      "{'id': 1446476777577193487, 'date': datetime.datetime(2021, 10, 8, 14, 5, 12), 'tweet': 'Hoy que se conmemora el 142.° aniversario del Combate de Angamos y la gesta heroica del almirante Miguel Grau, quiero saludar a la Marina de Guerra del Perú por su bicentenario y destacar el valeroso trabajo para garantizar la defensa y soberanía del país.¡Feliz día, @naval_peru! https://t.co/gVedsnwyYA'}\n",
      "{'id': 1446317400815718421, 'date': datetime.datetime(2021, 10, 8, 3, 31, 54), 'tweet': '¡Arriba, Perú 🇵🇪! Gracias, @SeleccionPeru, por este triunfo importante para todos los peruanos. El trabajo en equipo es fundamental para lograr buenos resultados. 👍 https://t.co/RxkyMhABp4'}\n",
      "{'id': 1446307650841587745, 'date': datetime.datetime(2021, 10, 8, 2, 53, 9), 'tweet': 'Saludo la decisión del presidente @PedroCastilloTe de ratificar a Julio Velarde al frente del Banco Central de Reserva. Esto brindará la estabilidad económica que necesitamos en estos momentos para el Perú. 🇵🇪'}\n",
      "{'id': 1446230257531510786, 'date': datetime.datetime(2021, 10, 7, 21, 45, 37), 'tweet': 'Una pausa durante la ceremonia de juramentación del gabinete, con el gran @anibaltorresv: juntos como siempre, trabajando al lado del presidente @PedroCastilloTe. \\nPor un Perú unido, en la más amplia expresión. https://t.co/9q1lRJ4fVv'}\n",
      "{'id': 1446183554589896704, 'date': datetime.datetime(2021, 10, 7, 18, 40, 2), 'tweet': 'Despacho de la Vicepresidencia: dialogamos hoy con los alcaldes de la prov. de Marañón-Huánuco, de los distritos huancavelicanos Acraquia, Carhuacallanga, Vilca y Acobambilla, así como de Pancán-Junín. Siempre facilitando acciones y con #puertasabiertas a nuestras autoridades. https://t.co/7Ko9pJ3gCa'}\n",
      "{'id': 1446101299716579331, 'date': datetime.datetime(2021, 10, 7, 13, 13, 11), 'tweet': 'Hoy celebramos y rendimos homenaje a uno de los bailes más populares del Perú y considerado Patrimonio Cultural de la Nación. ¡Feliz #DíaNacionalDeLaMarinera! https://t.co/7vMHm88na0'}\n",
      "{'id': 1445943773930954753, 'date': datetime.datetime(2021, 10, 7, 2, 47, 14), 'tweet': 'Mi agradecimiento al presidente @PedroCastilloTe por ratificarme como titular del @MidisPeru. Nuestro país necesita avanzar en favor de todos, especialmente los más vulnerables. Seguiremos trabajando por un futuro mejor y una patria soberana. ¡Viva el Perú! 🇵🇪 https://t.co/CUiZacf3cD'}\n",
      "{'id': 1445544009032552449, 'date': datetime.datetime(2021, 10, 6, 0, 18, 43), 'tweet': 'Esta mañana estuve en Villa María del Triunfo para supervisar el pago del apoyo económico #YanapayPerú a una pareja de usuarios de @MIDIS_Pension65. Eulobia Gutiérrez y Máximo Remón Soto recibieron muy felices este apoyo que les brinda el Gobierno del presidente @PedroCastilloTe. https://t.co/1g42rOmF0i'}\n",
      "{'id': 1445528792462610436, 'date': datetime.datetime(2021, 10, 5, 23, 18, 15), 'tweet': 'Aprovecho para brindar mi reconocimiento a los canillitas del Perú por su 75.° aniversario y por la labor económica de servicio al comercio que desempeñan día a día para salir adelante. Este Gobierno respaldará sus intereses. ¡Feliz #DíaDelCanillitaPeruano! https://t.co/9M0U5btrqy'}\n",
      "{'id': 1445528783012851717, 'date': datetime.datetime(2021, 10, 5, 23, 18, 13), 'tweet': 'Hoy recibimos a la Federación Unión Nacional de Expendedores de Diarios, Revistas y Loterías para coordinar el reglamento de la Ley 31344, que regula sus actividades en espacios públicos, ley que promovió el presidente @PedroCastilloTe como parte de su compromiso con ellos. https://t.co/cCQR6Eh8lV'}\n",
      "{'id': 1445484924853571592, 'date': datetime.datetime(2021, 10, 5, 20, 23, 56), 'tweet': 'He dispuesto que los viceministros y directores de los programas sociales @Midisjuntos, @MIDIS_CunaMas, @Midis_CONTIGO, @MidisQaliWarma, @MIDIS_Pension65, @MidisFoncodes y @MIDISPAIS verifiquen personalmente el pago a usuarios de programas que viven en zonas alejadas. https://t.co/ASCUDcdDI3'}\n",
      "{'id': 1445484914980261895, 'date': datetime.datetime(2021, 10, 5, 20, 23, 54), 'tweet': 'Así se viene desarrollando el pago del apoyo económico #YanapayPerú en diversas regiones de nuestro país. Estamos poniendo todas nuestras capacidades al servicio de la población más vulnerables. https://t.co/TruqnEx22T'}\n",
      "{'id': 1445423506540351488, 'date': datetime.datetime(2021, 10, 5, 16, 19, 53), 'tweet': 'Saludo a las y los médicos de nuestro país por su compromiso y la loable labor que cumplen, más aún en esta situación de pandemia que vivimos todos los peruanos. Mi respeto y cariño para ustedes. ¡Feliz #DíaDeLaMedicinaPeruana! https://t.co/nLpcowI78Z'}\n",
      "{'id': 1445361120710103045, 'date': datetime.datetime(2021, 10, 5, 12, 11, 59), 'tweet': 'Desde hoy el segundo grupo de beneficiarios del apoyo económico #YanapayPerú podrá recibir el subsidio monetario que brinda el Gobierno para apoyar a las familias más vulnerables del país afectadas por la pandemia de la COVID-19. ¡Seguimos trabajando por el Perú! 🇵🇪 https://t.co/meXXv3PB1Z'}\n",
      "{'id': 1445255647893901313, 'date': datetime.datetime(2021, 10, 5, 5, 12, 52), 'tweet': 'Estos temas son prioritarios para este Gobierno. La educación es un compromiso del presidente @PedroCastilloTe con la juventud peruana. 🇵🇪'}\n",
      "{'id': 1445255644400046083, 'date': datetime.datetime(2021, 10, 5, 5, 12, 51), 'tweet': 'Nos reunimos con docentes de universidades públicas para revisar temas como la homologación, el licenciamiento, presupuesto de las universidades y ampliación del plazo para que los docentes obtengan los grados de maestro y doctor.'}\n",
      "{'id': 1444749174503788546, 'date': datetime.datetime(2021, 10, 3, 19, 40, 20), 'tweet': 'Saludamos a las mujeres luchadoras, que en medio de la pandemia se han reinventado para no morir de hambre, a través de las ollas comunes. Desde el @MidisPeru, ampliaremos la compra de alimentos a los agricultores para beneficiar a los más vulnerables gracias a @MidisQaliWarma. https://t.co/qNMNP5m6J0'}\n",
      "{'id': 1444749167130198016, 'date': datetime.datetime(2021, 10, 3, 19, 40, 18), 'tweet': 'Hermanas y hermanos del agro, nuestro compromiso es trabajar para resolver los problemas de este sector que llevan más de 30 años y, a través de la cosecha de agua, garantizar el desarrollo de la agricultura, bajo el liderazgo del presidente @PedroCastilloTe. https://t.co/TqHJ9xgnXj'}\n",
      "{'id': 1444707146566967299, 'date': datetime.datetime(2021, 10, 3, 16, 53, 19), 'tweet': '#Cusco Este es un gran paso para el Perú 🇵🇪. A través de los 9 ejes estratégicos de la #IIReformaAgraria se promoverá la competitividad de los pequeños productores y mejorará su productividad, permitiéndoles acceder a nuevos mercados y obtener mayores ingresos. https://t.co/mfShDd113z'}\n",
      "{'id': 1444646520142315531, 'date': datetime.datetime(2021, 10, 3, 12, 52, 25), 'tweet': 'Hoy día es un momento especial, estaremos presentes en el lanzamiento de la #IIReformaAgraria en Cusco. Este es un compromiso del presidente \\u2066@PedroCastilloTe\\u2069, que busca resaltar el trabajo de los productores agrícolas y revalorar la agricultura familiar.🇵🇪 https://t.co/JwBahnMgX1'}\n",
      "{'id': 1444079812235173889, 'date': datetime.datetime(2021, 10, 1, 23, 20, 31), 'tweet': 'Finalmente, verificamos la atención que reciben 64 niñas y niños de Socabaya en el Centro Infantil de Atención Integral Horacio Zeballos Gámez, a través del servicio de cuidado diurno del programa @MIDIS_CunaMas. Buscamos garantizar una primera infancia saludable, segura y feliz. https://t.co/6XpqPKBeTt'}\n",
      "{'id': 1444079802298904576, 'date': datetime.datetime(2021, 10, 1, 23, 20, 29), 'tweet': 'Asimismo, participamos en una exposición de la intervención Saberes Productivos de @MIDIS_Pension65, en Cayma, que busca revalorar el rol de nuestros adultos mayores como portadores de conocimientos y prácticas ancestrales. https://t.co/0VnFbLeZQm'}\n",
      "{'id': 1444079794648399876, 'date': datetime.datetime(2021, 10, 1, 23, 20, 27), 'tweet': 'En #Arequipa entregamos 57.24 toneladas de alimentos de @MidisQaliWarma a las Municipalidades de Yura, Cayma y Socabaya para beneficiar a 5344 personas vulnerables de las ollas comunes. Seguimos trabajando articuladamente para que los alimentos lleguen a quienes más lo necesitan. https://t.co/9IaiS6zQvV'}\n",
      "{'id': 1444068131790639104, 'date': datetime.datetime(2021, 10, 1, 22, 34, 6), 'tweet': '#Arequipa Hoy conocí a Toribio Huamaní, usuario con discapacidad severa del programa @Midis_CONTIGO, quien me contó que ya recibió el apoyo económico #YanapayPerú. ¡Seguiremos trabajando a favor de las personas que viven en pobreza, pobreza extrema y en vulnerabilidad en el país! https://t.co/pLdLsDMru3'}\n",
      "{'id': 1443923706745659435, 'date': datetime.datetime(2021, 10, 1, 13, 0, 13), 'tweet': 'Además, estaré supervisando los servicios que brinda  @Midis a través de los programas @Pension65 y @CunasMas a nuestras usuarias y usuarios. https://t.co/dJMtoeURju'}\n",
      "{'id': 1443923692589883414, 'date': datetime.datetime(2021, 10, 1, 13, 0, 9), 'tweet': 'Hoy en #Arequipa estaré entregando alimentos de  @Qali Warma a las municipalidades de Yura, Caima y Socabaya para ayudar a más ollas comunes a afrontar tiempos de pandemia, de acuerdo a los lineamientos brindados por el presidente @Pedro Castillo. https://t.co/oYgLYQ5Zu7'}\n",
      "{'id': 1443913281844940802, 'date': datetime.datetime(2021, 10, 1, 12, 18, 47), 'tweet': 'Quiero expresar mi cálido saludo a las y los periodistas peruanos que desempeñan su trabajo con profesionalismo y responsabilidad, brindando información veraz y precisa a la población. Una labor que merece ser reconocida. ¡Feliz #DíaDelPeriodista! https://t.co/5DV53Amksj'}\n",
      "{'id': 1443390066068500490, 'date': datetime.datetime(2021, 9, 30, 1, 39, 43), 'tweet': 'El diálogo como mecanismo para resolver un conflicto es fundamental en un Estado de Derecho, los representantes de la Municipalidad de Paracas y la empresa Pluspetrol deben conversar y poner como prioridad a la población para evitar posible desabastecimiento del gas natural.'}\n",
      "{'id': 1443238849493274624, 'date': datetime.datetime(2021, 9, 29, 15, 38, 50), 'tweet': 'El trabajo arduo por la vacunación y por recuperar la economía de los más golpeados por la pandemia ya tiene sus primeros resultados. Unidos, bajo el liderazgo del presidente Pedro Castillo, seguiremos impulsando el plan Perú al Bicentenario sin corrupción. https://t.co/CchqK0Ycwc'}\n",
      "{'id': 1441869077979353089, 'date': datetime.datetime(2021, 9, 25, 20, 55, 51), 'tweet': 'Pasen la voz!! #Yanapay https://t.co/4oeNKTmcGQ'}\n",
      "{'id': 1441844170361085959, 'date': datetime.datetime(2021, 9, 25, 19, 16, 53), 'tweet': 'Gracias a Rodrigo Salazar,del Consejo de la Prensa Peruana, así como a Fernando Gimeno y Marco Aquino, de la Asociación de Prensa Extranjera, con quiénes hoy dialogamos sobre cómo fortalecer la #libertaddeprensa y una mejor comunicación. https://t.co/7s5HPjuwyp'}\n",
      "{'id': 1441447581247213568, 'date': datetime.datetime(2021, 9, 24, 17, 0, 58), 'tweet': 'Con la fuerza que nos inspiran las vidas perdidas en los años del terror, construyamos un futuro de desarrollo y #paz. #unidos (2/2)'}\n",
      "{'id': 1441447578399227910, 'date': datetime.datetime(2021, 9, 24, 17, 0, 58), 'tweet': 'Cumpliendo la Ley 31352, que el presidente Pedro Castillo aprobó con celeridad, los restos del terrorista Abimael Guzmán fueron incinerados. Anhelo que como país ratifiquemos un rotundo adiós a la violencia y atraso que dejó Sendero Luminoso. (1/2)'}\n",
      "{'id': 1440355760895000587, 'date': datetime.datetime(2021, 9, 21, 16, 42, 28), 'tweet': 'Expreso mis condolencias por el deceso del magistrado del Tribunal Constitucional Carlos Ramos Núñez, quien en vida fue defensor del derecho e investigador de nuestra historia jurídica. Que descanse en paz.'}\n",
      "{'id': 1439917884529053702, 'date': datetime.datetime(2021, 9, 20, 11, 42, 30), 'tweet': 'Felicitaciones a todas y todos los peruanos. #Unidos, sigamos avanzando. https://t.co/nHVfSq0Lmi'}\n",
      "{'id': 1439264115562881037, 'date': datetime.datetime(2021, 9, 18, 16, 24, 40), 'tweet': 'Con la celeridad y responsabilidad que obligó la circunstancia, el presidente Pedro Castillo promulgó esta ley que aporta tranquilidad y reafirma el compromiso con la vida, la paz y la democracia que tiene este gobierno. Sigamos trabajando #unidos, el Perú nos necesita a todos. https://t.co/h7iguZD5pF'}\n",
      "{'id': 1438700582525616129, 'date': datetime.datetime(2021, 9, 17, 3, 5, 23), 'tweet': '...resguardar la seguridad y la paz social. Al hacerse público parte de ese debate reservado, debo precisar que no se votó por ninguna posición. Rechazo, por tanto, haberme adherido a una postura pues el intercambio de opiniones se cerró sin votación. (2/2)'}\n",
      "{'id': 1438700577316392965, 'date': datetime.datetime(2021, 9, 17, 3, 5, 22), 'tweet': 'Ayer el Consejo de Ministros abordó la competencia del Ejecutivo ante el vacío legal del destino del cuerpo del terrorista A. Guzmán. Reiteré mi total rechazo al terrorismo que tanto daño causó al país y mi posición a favor de incinerar los restos del cabecilla para...\\n(1/2)'}\n",
      "{'id': 1438235909464408067, 'date': datetime.datetime(2021, 9, 15, 20, 18, 56), 'tweet': 'Condenamos la agresión que sufrió #AvelinoGuillén y le expresamos nuestra solidaridad. La violencia y la intolerancia política deben ser rechazadas con firmeza.'}\n",
      "{'id': 1437922245716987906, 'date': datetime.datetime(2021, 9, 14, 23, 32, 33), 'tweet': 'Actualmente, me encuentro comprometida de manera íntegra a cumplir con el encargo efectuado por el señor presidente de la República en la cartera del Midis, con la finalidad de atender a la población más vulnerable del país. 🇵🇪'}\n"
     ]
    }
   ],
   "source": [
    "output = []\n",
    "tweets = api.user_timeline(screen_name=\"DinaErcilia\", \n",
    "                           # 200 is the maximum allowed count\n",
    "                           count=200,\n",
    "                           include_rts = False,\n",
    "                           #Necessary to keep full_text \n",
    "                           #otherwise only the first 140 words are extracted\n",
    "                           tweet_mode = 'extended'\n",
    "                           )\n",
    "\n",
    "for info in tweets:\n",
    "    #print(\"ID: {}\".format(info.id))\n",
    "    #print(info.created_at)\n",
    "    #print(info.full_text)\n",
    "    #print(\"\\n\")\n",
    "    text = info.full_text\n",
    "\n",
    "    line = {'id':info.id, 'date':info.created_at ,'tweet' : text}\n",
    "    output.append(line)\n",
    "    print(line)"
   ]
  },
  {
   "cell_type": "code",
   "execution_count": 160,
   "id": "c75e4665",
   "metadata": {},
   "outputs": [
    {
     "data": {
      "text/plain": [
       "source         20\n",
       "target         20\n",
       "target_user    20\n",
       "dtype: int64"
      ]
     },
     "execution_count": 160,
     "metadata": {},
     "output_type": "execute_result"
    }
   ],
   "source": [
    "id = \"1463876796257079296\"\n",
    "tweets=[]\n",
    "df = pd.DataFrame(tweets, columns = ['source' , 'target', 'target_user'])\n",
    "retweets_list = api.retweets(id)\n",
    "for retweet in retweets_list:\n",
    "        #print(retweet.user.screen_name)\n",
    "        #print(retweet.user.id)\n",
    "    df=df.append({'source' : id , 'target' : retweet.user.id, 'target_user' : retweet.user.screen_name} , ignore_index=True)\n",
    "df.count()"
   ]
  },
  {
   "cell_type": "code",
   "execution_count": 131,
   "id": "0b7009bb",
   "metadata": {},
   "outputs": [],
   "source": [
    "d=[]\n",
    "porsiaca = df\n",
    "df_c = pd.DataFrame(d, columns = ['source_user','source' , 'target', 'target_user']) #completo con los name user\n",
    "for i in df.index:\n",
    "    tweet = api.get_status(df['source'][i])\n",
    "    #print(tweet.user.name)\n",
    "    user = tweet.user.name\n",
    "    df_c=df_c.append({'source_user':user,'source' : df['source'][i] , 'target' : df['target'][i], 'target_user' : df['target_user'][i]} , ignore_index=True)"
   ]
  },
  {
   "cell_type": "code",
   "execution_count": 132,
   "id": "0d0b2f29",
   "metadata": {},
   "outputs": [],
   "source": [
    "df_c.head(500)\n",
    "train_df = train_df.append(df_c)"
   ]
  },
  {
   "cell_type": "code",
   "execution_count": 133,
   "id": "7f9ffbce",
   "metadata": {},
   "outputs": [
    {
     "data": {
      "text/html": [
       "<div>\n",
       "<style scoped>\n",
       "    .dataframe tbody tr th:only-of-type {\n",
       "        vertical-align: middle;\n",
       "    }\n",
       "\n",
       "    .dataframe tbody tr th {\n",
       "        vertical-align: top;\n",
       "    }\n",
       "\n",
       "    .dataframe thead th {\n",
       "        text-align: right;\n",
       "    }\n",
       "</style>\n",
       "<table border=\"1\" class=\"dataframe\">\n",
       "  <thead>\n",
       "    <tr style=\"text-align: right;\">\n",
       "      <th></th>\n",
       "      <th>source_user</th>\n",
       "      <th>source</th>\n",
       "      <th>target</th>\n",
       "      <th>target_user</th>\n",
       "    </tr>\n",
       "  </thead>\n",
       "  <tbody>\n",
       "    <tr>\n",
       "      <th>0</th>\n",
       "      <td>ONU Mujeres Ecuador</td>\n",
       "      <td>1465787970414419976</td>\n",
       "      <td>2407694894</td>\n",
       "      <td>BuddiLi</td>\n",
       "    </tr>\n",
       "    <tr>\n",
       "      <th>1</th>\n",
       "      <td>Ministerio del Deporte Ecuador</td>\n",
       "      <td>1465777282207866887</td>\n",
       "      <td>1041449741807218688</td>\n",
       "      <td>fenuso1</td>\n",
       "    </tr>\n",
       "    <tr>\n",
       "      <th>2</th>\n",
       "      <td>ONU Mujeres Ecuador</td>\n",
       "      <td>1465776423491321868</td>\n",
       "      <td>180801127</td>\n",
       "      <td>catheat24</td>\n",
       "    </tr>\n",
       "    <tr>\n",
       "      <th>3</th>\n",
       "      <td>ONU Mujeres Ecuador</td>\n",
       "      <td>1465776423491321868</td>\n",
       "      <td>821739076722237442</td>\n",
       "      <td>samanescuatro</td>\n",
       "    </tr>\n",
       "    <tr>\n",
       "      <th>4</th>\n",
       "      <td>Aldeas SOS Ecuador</td>\n",
       "      <td>1465770891682398215</td>\n",
       "      <td>308481591</td>\n",
       "      <td>lau_muriel</td>\n",
       "    </tr>\n",
       "    <tr>\n",
       "      <th>...</th>\n",
       "      <td>...</td>\n",
       "      <td>...</td>\n",
       "      <td>...</td>\n",
       "      <td>...</td>\n",
       "    </tr>\n",
       "    <tr>\n",
       "      <th>6</th>\n",
       "      <td>Anahi Durand</td>\n",
       "      <td>1464055238369841152</td>\n",
       "      <td>2781383187</td>\n",
       "      <td>oclaros06</td>\n",
       "    </tr>\n",
       "    <tr>\n",
       "      <th>7</th>\n",
       "      <td>Anahi Durand</td>\n",
       "      <td>1464055238369841152</td>\n",
       "      <td>1357589945536364544</td>\n",
       "      <td>MaleCanta_</td>\n",
       "    </tr>\n",
       "    <tr>\n",
       "      <th>8</th>\n",
       "      <td>Anahi Durand</td>\n",
       "      <td>1464055238369841152</td>\n",
       "      <td>57529156</td>\n",
       "      <td>rclaros2</td>\n",
       "    </tr>\n",
       "    <tr>\n",
       "      <th>9</th>\n",
       "      <td>Anahi Durand</td>\n",
       "      <td>1464055238369841152</td>\n",
       "      <td>158120967</td>\n",
       "      <td>Shavua_tov</td>\n",
       "    </tr>\n",
       "    <tr>\n",
       "      <th>10</th>\n",
       "      <td>Anahi Durand</td>\n",
       "      <td>1464055238369841152</td>\n",
       "      <td>93053173</td>\n",
       "      <td>rai_PY</td>\n",
       "    </tr>\n",
       "  </tbody>\n",
       "</table>\n",
       "<p>800 rows × 4 columns</p>\n",
       "</div>"
      ],
      "text/plain": [
       "                       source_user               source               target  \\\n",
       "0              ONU Mujeres Ecuador  1465787970414419976           2407694894   \n",
       "1   Ministerio del Deporte Ecuador  1465777282207866887  1041449741807218688   \n",
       "2              ONU Mujeres Ecuador  1465776423491321868            180801127   \n",
       "3              ONU Mujeres Ecuador  1465776423491321868   821739076722237442   \n",
       "4               Aldeas SOS Ecuador  1465770891682398215            308481591   \n",
       "..                             ...                  ...                  ...   \n",
       "6                     Anahi Durand  1464055238369841152           2781383187   \n",
       "7                     Anahi Durand  1464055238369841152  1357589945536364544   \n",
       "8                     Anahi Durand  1464055238369841152             57529156   \n",
       "9                     Anahi Durand  1464055238369841152            158120967   \n",
       "10                    Anahi Durand  1464055238369841152             93053173   \n",
       "\n",
       "      target_user  \n",
       "0         BuddiLi  \n",
       "1         fenuso1  \n",
       "2       catheat24  \n",
       "3   samanescuatro  \n",
       "4      lau_muriel  \n",
       "..            ...  \n",
       "6       oclaros06  \n",
       "7      MaleCanta_  \n",
       "8        rclaros2  \n",
       "9      Shavua_tov  \n",
       "10         rai_PY  \n",
       "\n",
       "[800 rows x 4 columns]"
      ]
     },
     "execution_count": 133,
     "metadata": {},
     "output_type": "execute_result"
    }
   ],
   "source": [
    "train_df.head(800)"
   ]
  },
  {
   "cell_type": "code",
   "execution_count": 139,
   "id": "f920364f",
   "metadata": {},
   "outputs": [],
   "source": [
    "train_df.to_csv('nodos25n_of.csv',index=False)"
   ]
  },
  {
   "cell_type": "code",
   "execution_count": 140,
   "id": "aff5c146",
   "metadata": {},
   "outputs": [],
   "source": [
    "import csv\n",
    "from tqdm import tqdm\n",
    "import networkx as nx"
   ]
  },
  {
   "cell_type": "code",
   "execution_count": 141,
   "id": "943bcf81",
   "metadata": {},
   "outputs": [],
   "source": [
    "G = nx.DiGraph()"
   ]
  },
  {
   "cell_type": "code",
   "execution_count": 143,
   "id": "88e33970",
   "metadata": {},
   "outputs": [
    {
     "data": {
      "text/plain": [
       "source_user    847\n",
       "source         847\n",
       "target         847\n",
       "target_user    847\n",
       "dtype: int64"
      ]
     },
     "execution_count": 143,
     "metadata": {},
     "output_type": "execute_result"
    }
   ],
   "source": [
    "train_df.count()"
   ]
  },
  {
   "cell_type": "code",
   "execution_count": 180,
   "id": "c830c426",
   "metadata": {
    "scrolled": false
   },
   "outputs": [
    {
     "name": "stderr",
     "output_type": "stream",
     "text": [
      "847it [00:00, 48616.80it/s]\n"
     ]
    }
   ],
   "source": [
    "#with open('./data/hero-network.csv', 'r') as f:\n",
    "with open('nodos25n_of.csv', 'r', encoding=\"utf8\") as f:\n",
    "    data = csv.reader(f)\n",
    "    headers = next(data)\n",
    "    for row in tqdm(data):\n",
    "        G.add_node(row[0]) #superhero in first column\n",
    "        G.add_node(row[3]) #superhero in second column\n",
    "        if G.has_edge(row[0], row[3]):\n",
    "            # edge already exists, increase weight by one\n",
    "            G[row[0]][row[3]]['weight'] += 1\n",
    "        else:\n",
    "            # add new edge with weight 1\n",
    "            G.add_edge(row[0], row[3], weight = 1)\n",
    "    \n",
    "    \n",
    "    \"\"\" G.add_node(train_df['source_user'][i]) #superhero in first column\n",
    "    G.add_node(train_df['target_user'][i]) #superhero in second column\n",
    "    print(f\"{train_df['source_user'][i]},{train_df['target_user'][i]}\")\n",
    "    if G.has_edge(train_df['source_user'][i], train_df['target_user'][i]):\n",
    "        # edge already exists, increase weight by one\n",
    "        G[train_df['source_user'][i]][train_df['target_user'][i]]['weight'] += 1\n",
    "    else:\n",
    "            # add new edge with weight 1\n",
    "        G.add_edge(train_df['source_user'][i], train_df['target_user'][i], weight = 1)\"\"\""
   ]
  },
  {
   "cell_type": "code",
   "execution_count": 181,
   "id": "3863ddd0",
   "metadata": {},
   "outputs": [
    {
     "name": "stdout",
     "output_type": "stream",
     "text": [
      "Nodes =  492  Edges =  481\n"
     ]
    }
   ],
   "source": [
    "G_nodes = G.number_of_nodes()\n",
    "G_edges = G.number_of_edges()\n",
    "print(\"Nodes = \", G_nodes, \" Edges = \",G_edges)\n",
    "\n"
   ]
  },
  {
   "cell_type": "code",
   "execution_count": 182,
   "id": "b442647b",
   "metadata": {},
   "outputs": [],
   "source": [
    "nx.write_gexf(G, \"25n-network.gexf\")"
   ]
  },
  {
   "cell_type": "code",
   "execution_count": 183,
   "id": "4b637e32",
   "metadata": {},
   "outputs": [
    {
     "name": "stdout",
     "output_type": "stream",
     "text": [
      "density =  0.001991124799231699\n"
     ]
    }
   ],
   "source": [
    "G_density = nx.density(G)\n",
    "print(\"density = \",G_density)"
   ]
  },
  {
   "cell_type": "markdown",
   "id": "3f0019ff",
   "metadata": {},
   "source": [
    "# degree"
   ]
  },
  {
   "cell_type": "code",
   "execution_count": 184,
   "id": "2988376f",
   "metadata": {},
   "outputs": [],
   "source": [
    "degree_dict = dict(G.degree(G.nodes()))\n",
    "nx.set_node_attributes(G,degree_dict,'degree')"
   ]
  },
  {
   "cell_type": "code",
   "execution_count": 185,
   "id": "918da168",
   "metadata": {
    "scrolled": false
   },
   "outputs": [
    {
     "name": "stdout",
     "output_type": "stream",
     "text": [
      "Los 10 nodos mas relevantes por Grado (personas con mas conexiones en la red social) son: \n",
      "('Mirtha Vásquez', 40)\n",
      "('Anahi Durand', 37)\n",
      "('Sigrid Bazán', 33)\n",
      "('Maricarmen Alva', 25)\n",
      "('Susel Paredes', 21)\n",
      "('Gloria Montenegro', 20)\n",
      "('Martha Moyano Delgado', 20)\n",
      "('Dina Boluarte Z.', 20)\n",
      "('Flor Pablo Medina 🇵🇪', 19)\n",
      "('RocioSilvaSantisteban', 19)\n"
     ]
    }
   ],
   "source": [
    "import operator\n",
    "sorted_degree = sorted(degree_dict.items(), key=operator.itemgetter(1), reverse=True)\n",
    "print(\"Los 10 nodos mas relevantes por Grado (personas con mas conexiones en la red social) son: \")\n",
    "for d in sorted_degree[:10]:\n",
    "    print(d)\n",
    "    "
   ]
  },
  {
   "cell_type": "code",
   "execution_count": 120,
   "id": "eba464e8",
   "metadata": {},
   "outputs": [
    {
     "name": "stdout",
     "output_type": "stream",
     "text": [
      "Requirement already satisfied: networkx in c:\\users\\adri_\\appdata\\roaming\\python\\python38\\site-packages (2.3)\n",
      "Collecting networkx\n",
      "  Downloading networkx-2.6.3-py3-none-any.whl (1.9 MB)\n",
      "Installing collected packages: networkx\n",
      "  Attempting uninstall: networkx\n",
      "    Found existing installation: networkx 2.3\n",
      "    Uninstalling networkx-2.3:\n",
      "      Successfully uninstalled networkx-2.3\n",
      "Successfully installed networkx-2.6.3\n",
      "Note: you may need to restart the kernel to use updated packages.\n"
     ]
    }
   ],
   "source": [
    "pip install -U networkx"
   ]
  },
  {
   "cell_type": "code",
   "execution_count": 107,
   "id": "dc5798e0",
   "metadata": {},
   "outputs": [
    {
     "data": {
      "image/png": "[encoded data removed]",
      "text/plain": [
       "<Figure size 432x288 with 1 Axes>"
      ]
     },
     "metadata": {},
     "output_type": "display_data"
    }
   ],
   "source": [
    "nx.draw_kamada_kawai(G)"
   ]
  },
  {
   "cell_type": "code",
   "execution_count": 135,
   "id": "b5cf8097",
   "metadata": {},
   "outputs": [
    {
     "name": "stdout",
     "output_type": "stream",
     "text": [
      "Collecting pyvis\n",
      "  Downloading pyvis-0.1.9-py3-none-any.whl (23 kB)\n",
      "Requirement already satisfied: jinja2>=2.9.6 in c:\\users\\adri_\\anaconda3\\lib\\site-packages (from pyvis) (2.11.3)\n",
      "Requirement already satisfied: ipython>=5.3.0 in c:\\users\\adri_\\anaconda3\\lib\\site-packages (from pyvis) (7.22.0)\n",
      "Collecting jsonpickle>=1.4.1\n",
      "  Downloading jsonpickle-2.0.0-py2.py3-none-any.whl (37 kB)\n",
      "Requirement already satisfied: networkx>=1.11 in c:\\users\\adri_\\anaconda3\\lib\\site-packages (from pyvis) (2.6.3)\n",
      "Requirement already satisfied: traitlets>=4.2 in c:\\users\\adri_\\anaconda3\\lib\\site-packages (from ipython>=5.3.0->pyvis) (5.0.5)\n",
      "Requirement already satisfied: colorama in c:\\users\\adri_\\anaconda3\\lib\\site-packages (from ipython>=5.3.0->pyvis) (0.4.4)\n",
      "Requirement already satisfied: decorator in c:\\users\\adri_\\appdata\\roaming\\python\\python38\\site-packages (from ipython>=5.3.0->pyvis) (4.3.0)\n",
      "Requirement already satisfied: prompt-toolkit!=3.0.0,!=3.0.1,<3.1.0,>=2.0.0 in c:\\users\\adri_\\anaconda3\\lib\\site-packages (from ipython>=5.3.0->pyvis) (3.0.17)\n",
      "Requirement already satisfied: setuptools>=18.5 in c:\\users\\adri_\\anaconda3\\lib\\site-packages (from ipython>=5.3.0->pyvis) (52.0.0.post20210125)\n",
      "Requirement already satisfied: pygments in c:\\users\\adri_\\anaconda3\\lib\\site-packages (from ipython>=5.3.0->pyvis) (2.8.1)\n",
      "Requirement already satisfied: pickleshare in c:\\users\\adri_\\anaconda3\\lib\\site-packages (from ipython>=5.3.0->pyvis) (0.7.5)\n",
      "Requirement already satisfied: backcall in c:\\users\\adri_\\anaconda3\\lib\\site-packages (from ipython>=5.3.0->pyvis) (0.2.0)\n",
      "Requirement already satisfied: jedi>=0.16 in c:\\users\\adri_\\anaconda3\\lib\\site-packages (from ipython>=5.3.0->pyvis) (0.17.2)\n",
      "Requirement already satisfied: parso<0.8.0,>=0.7.0 in c:\\users\\adri_\\anaconda3\\lib\\site-packages (from jedi>=0.16->ipython>=5.3.0->pyvis) (0.7.0)\n",
      "Requirement already satisfied: MarkupSafe>=0.23 in c:\\users\\adri_\\anaconda3\\lib\\site-packages (from jinja2>=2.9.6->pyvis) (1.1.1)\n",
      "Requirement already satisfied: wcwidth in c:\\users\\adri_\\anaconda3\\lib\\site-packages (from prompt-toolkit!=3.0.0,!=3.0.1,<3.1.0,>=2.0.0->ipython>=5.3.0->pyvis) (0.2.5)\n",
      "Requirement already satisfied: ipython-genutils in c:\\users\\adri_\\anaconda3\\lib\\site-packages (from traitlets>=4.2->ipython>=5.3.0->pyvis) (0.2.0)\n",
      "Installing collected packages: jsonpickle, pyvis\n",
      "Successfully installed jsonpickle-2.0.0 pyvis-0.1.9\n",
      "Note: you may need to restart the kernel to use updated packages.\n"
     ]
    }
   ],
   "source": [
    "pip install pyvis"
   ]
  },
  {
   "cell_type": "code",
   "execution_count": 108,
   "id": "7ef5f1f0",
   "metadata": {
    "scrolled": true
   },
   "outputs": [
    {
     "data": {
      "text/html": [
       "\n",
       "        <iframe\n",
       "            width=\"500px\"\n",
       "            height=\"500px\"\n",
       "            src=\"example.html\"\n",
       "            frameborder=\"0\"\n",
       "            allowfullscreen\n",
       "        ></iframe>\n",
       "        "
      ],
      "text/plain": [
       "<IPython.lib.display.IFrame at 0x1b9b1b4c490>"
      ]
     },
     "execution_count": 108,
     "metadata": {},
     "output_type": "execute_result"
    }
   ],
   "source": [
    "from pyvis.network import Network\n",
    "net = Network(notebook=True)\n",
    "net.from_nx(G)\n",
    "net.show(\"example.html\")"
   ]
  },
  {
   "cell_type": "markdown",
   "id": "1e96b702",
   "metadata": {},
   "source": [
    "# centralidad betweeness "
   ]
  },
  {
   "cell_type": "code",
   "execution_count": 102,
   "id": "e420bad5",
   "metadata": {},
   "outputs": [
    {
     "name": "stdout",
     "output_type": "stream",
     "text": [
      "Requirement already satisfied: decorator==4.3 in c:\\users\\adri_\\appdata\\roaming\\python\\python38\\site-packages (4.3.0)\n",
      "Requirement already satisfied: networkx==2.3 in c:\\users\\adri_\\appdata\\roaming\\python\\python38\\site-packages (2.3)\n",
      "Requirement already satisfied: decorator>=4.3.0 in c:\\users\\adri_\\appdata\\roaming\\python\\python38\\site-packages (from networkx==2.3) (4.3.0)\n"
     ]
    }
   ],
   "source": [
    "!pip install decorator==4.3\n",
    "\n",
    "!pip install networkx==2.3"
   ]
  },
  {
   "cell_type": "code",
   "execution_count": null,
   "id": "41cb9297",
   "metadata": {},
   "outputs": [],
   "source": []
  }
 ],
 "metadata": {
  "kernelspec": {
   "display_name": "Python 3",
   "language": "python",
   "name": "python3"
  },
  "language_info": {
   "codemirror_mode": {
    "name": "ipython",
    "version": 3
   },
   "file_extension": ".py",
   "mimetype": "text/x-python",
   "name": "python",
   "nbconvert_exporter": "python",
   "pygments_lexer": "ipython3",
   "version": "3.8.8"
  }
 },
 "nbformat": 4,
 "nbformat_minor": 5
}
